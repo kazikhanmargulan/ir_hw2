{
 "cells": [
  {
   "cell_type": "markdown",
   "id": "ed3b83a0",
   "metadata": {},
   "source": [
    "# Imports"
   ]
  },
  {
   "cell_type": "code",
   "execution_count": 34,
   "id": "6ffa51da",
   "metadata": {},
   "outputs": [],
   "source": [
    "from elasticsearch import Elasticsearch\n",
    "from elasticsearch.helpers import bulk\n",
    "import pandas as pd\n",
    "import time\n",
    "import csv\n",
    "import json"
   ]
  },
  {
   "cell_type": "code",
   "execution_count": 2,
   "id": "10170599",
   "metadata": {},
   "outputs": [
    {
     "data": {
      "text/plain": [
       "{'name': '46e14d42de6c',\n",
       " 'cluster_name': 'docker-cluster',\n",
       " 'cluster_uuid': 'flpIrxYNSAS8AyXKm8HB5A',\n",
       " 'version': {'number': '8.3.1',\n",
       "  'build_type': 'docker',\n",
       "  'build_hash': 'b9a6b2867996ba92ceac66cb5bafc6db25e7910e',\n",
       "  'build_date': '2022-06-29T18:39:55.731992798Z',\n",
       "  'build_snapshot': False,\n",
       "  'lucene_version': '9.2.0',\n",
       "  'minimum_wire_compatibility_version': '7.17.0',\n",
       "  'minimum_index_compatibility_version': '7.0.0'},\n",
       " 'tagline': 'You Know, for Search'}"
      ]
     },
     "execution_count": 2,
     "metadata": {},
     "output_type": "execute_result"
    }
   ],
   "source": [
    "es = Elasticsearch(\"http://localhost:9200\")\n",
    "es.info().body"
   ]
  },
  {
   "cell_type": "markdown",
   "id": "9668ac8d",
   "metadata": {},
   "source": [
    "# Load the document"
   ]
  },
  {
   "cell_type": "code",
   "execution_count": 3,
   "id": "d723006c",
   "metadata": {},
   "outputs": [],
   "source": [
    "df = pd.read_csv(\"documents.csv\")"
   ]
  },
  {
   "cell_type": "markdown",
   "id": "520b939d",
   "metadata": {},
   "source": [
    "# Create Index"
   ]
  },
  {
   "cell_type": "code",
   "execution_count": 4,
   "id": "ebcbae51",
   "metadata": {},
   "outputs": [],
   "source": [
    "mappings = {\n",
    "    \"properties\": {\n",
    "        \"text_right\": {\"type\": \"text\"}\n",
    "    }\n",
    "}"
   ]
  },
  {
   "cell_type": "code",
   "execution_count": 20,
   "id": "953cb7a0",
   "metadata": {},
   "outputs": [
    {
     "data": {
      "text/plain": [
       "ObjectApiResponse({'acknowledged': True, 'shards_acknowledged': True, 'index': 'documents'})"
      ]
     },
     "execution_count": 20,
     "metadata": {},
     "output_type": "execute_result"
    }
   ],
   "source": [
    "es.indices.create(index=\"documents\", mappings=mappings)"
   ]
  },
  {
   "cell_type": "markdown",
   "id": "9ba61fdd",
   "metadata": {},
   "source": [
    "Delete Index if any problem"
   ]
  },
  {
   "cell_type": "code",
   "execution_count": 19,
   "id": "17bf20b1",
   "metadata": {},
   "outputs": [
    {
     "data": {
      "text/plain": [
       "ObjectApiResponse({'acknowledged': True})"
      ]
     },
     "execution_count": 19,
     "metadata": {},
     "output_type": "execute_result"
    }
   ],
   "source": [
    "es.indices.delete(index=\"stem_documents\")"
   ]
  },
  {
   "cell_type": "markdown",
   "id": "f34b71a1",
   "metadata": {},
   "source": [
    "# Index document"
   ]
  },
  {
   "cell_type": "code",
   "execution_count": 21,
   "id": "2c33c635",
   "metadata": {},
   "outputs": [
    {
     "name": "stdout",
     "output_type": "stream",
     "text": [
      "--- 53.17474389076233 seconds ---\n"
     ]
    }
   ],
   "source": [
    "start_time = time.time()\n",
    "\n",
    "bulk_data = []\n",
    "for i,row in df.iterrows():\n",
    "    bulk_data.append(\n",
    "        {\n",
    "            \"_index\" : \"documents\",\n",
    "            \"_id\" : row[\"id_right\"],\n",
    "            \"_source\": {        \n",
    "                \"text_right\": row[\"text_right\"],\n",
    "            }\n",
    "        }\n",
    "    )\n",
    "\n",
    "bulk(es, bulk_data)\n",
    "\n",
    "print(\"--- %s seconds ---\" % (time.time() - start_time))"
   ]
  },
  {
   "cell_type": "markdown",
   "id": "9cfb04b1",
   "metadata": {},
   "source": [
    "# Create new index for stemming"
   ]
  },
  {
   "cell_type": "code",
   "execution_count": 7,
   "id": "e661bbdb",
   "metadata": {},
   "outputs": [],
   "source": [
    "stem_settings = {\n",
    "    \"settings\": {\n",
    "        \"analysis\": {\n",
    "            \"analyzer\": {\n",
    "                \"my_analyzer\": {\n",
    "                    \"type\": \"custom\",\n",
    "                    \"tokenizer\": \"standard\",\n",
    "                    \"filter\":[\n",
    "                        \"lowercase\",\n",
    "                        \"english_stem\"\n",
    "                    ]\n",
    "                }\n",
    "            },\n",
    "            \"filter\": {\n",
    "                \"english_stem\": {\n",
    "                    \"type\": \"stemmer\",\n",
    "                    \"language\": \"english\"\n",
    "                }\n",
    "            }\n",
    "        }\n",
    "    },\n",
    "    \"mappings\": {\n",
    "        \"properties\": {\n",
    "            \"text_right\": {\n",
    "                \"type\": \"text\",\n",
    "                \"analyzer\": \"my_analyzer\"\n",
    "            }\n",
    "        }\n",
    "    }\n",
    "}"
   ]
  },
  {
   "cell_type": "code",
   "execution_count": 22,
   "id": "ce389da4",
   "metadata": {},
   "outputs": [
    {
     "name": "stderr",
     "output_type": "stream",
     "text": [
      "/var/folders/_l/rkyt5yds1gq2qlb0ljt7n8s00000gn/T/ipykernel_14216/2146293388.py:1: DeprecationWarning: The 'body' parameter is deprecated and will be removed in a future version. Instead use individual parameters.\n",
      "  es.indices.create(index='stem_documents', body=stem_settings)\n"
     ]
    },
    {
     "data": {
      "text/plain": [
       "ObjectApiResponse({'acknowledged': True, 'shards_acknowledged': True, 'index': 'stem_documents'})"
      ]
     },
     "execution_count": 22,
     "metadata": {},
     "output_type": "execute_result"
    }
   ],
   "source": [
    "es.indices.create(index='stem_documents', body=stem_settings)"
   ]
  },
  {
   "cell_type": "markdown",
   "id": "2bea20c9",
   "metadata": {},
   "source": [
    "# Index document to new index with stemming"
   ]
  },
  {
   "cell_type": "code",
   "execution_count": 23,
   "id": "cb2245b6",
   "metadata": {
    "scrolled": true
   },
   "outputs": [
    {
     "name": "stdout",
     "output_type": "stream",
     "text": [
      "--- 57.96376705169678 seconds ---\n"
     ]
    }
   ],
   "source": [
    "start_time = time.time()\n",
    "\n",
    "stem_bulk_data = []\n",
    "\n",
    "for i,row in df.iterrows():\n",
    "    stem_bulk_data.append(\n",
    "        {\n",
    "            \"_index\": \"stem_documents\",\n",
    "            \"_id\": row[\"id_right\"],\n",
    "            \"_source\": {        \n",
    "                \"text_right\": row[\"text_right\"],\n",
    "            }\n",
    "        }\n",
    "    )\n",
    "\n",
    "bulk(es, stem_bulk_data)\n",
    "\n",
    "print(\"--- %s seconds ---\" % (time.time() - start_time))"
   ]
  },
  {
   "cell_type": "markdown",
   "id": "333c6e1b",
   "metadata": {},
   "source": [
    "# Read test queries"
   ]
  },
  {
   "cell_type": "code",
   "execution_count": 10,
   "id": "8625fda3",
   "metadata": {},
   "outputs": [],
   "source": [
    "qdf = pd.read_csv(\"queries.csv\")"
   ]
  },
  {
   "cell_type": "markdown",
   "id": "f185d6dc",
   "metadata": {},
   "source": [
    "# Run queries on index with no stemming"
   ]
  },
  {
   "cell_type": "code",
   "execution_count": 38,
   "id": "8bc6add7",
   "metadata": {},
   "outputs": [
    {
     "name": "stderr",
     "output_type": "stream",
     "text": [
      "/var/folders/_l/rkyt5yds1gq2qlb0ljt7n8s00000gn/T/ipykernel_14216/3332274806.py:7: DeprecationWarning: The 'body' parameter is deprecated and will be removed in a future version. Instead use individual parameters.\n",
      "  resp = es.search(\n"
     ]
    },
    {
     "name": "stdout",
     "output_type": "stream",
     "text": [
      "Average query time is: \n",
      "2.16\n"
     ]
    }
   ],
   "source": [
    "triples = []\n",
    "total_time = 0\n",
    "number_of_queries = 0\n",
    "\n",
    "for i,row in qdf.iterrows():\n",
    "    triple = []\n",
    "    resp = es.search(\n",
    "        index=\"documents\",\n",
    "        body={\n",
    "            \"query\": {\n",
    "                \"bool\": {\n",
    "                    \"should\": {\n",
    "                        \"match\": {\n",
    "                            \"text_right\": row[\"text_left\"],\n",
    "                        }\n",
    "                    }\n",
    "                }\n",
    "            }\n",
    "        },\n",
    "        size=20\n",
    "    )\n",
    "    for hit in resp['hits']['hits']:\n",
    "        triple.append((row[\"id_left\"], hit['_id'], hit['_score']))\n",
    "    total_time += resp['took']\n",
    "    number_of_queries += 1\n",
    "    \n",
    "    triples.append(triple)\n",
    "    \n",
    "print(\"Average query time is: \")\n",
    "print(total_time/number_of_queries)"
   ]
  },
  {
   "cell_type": "code",
   "execution_count": 35,
   "id": "90ced6f6",
   "metadata": {},
   "outputs": [],
   "source": [
    "with open('triples_no_stemming.csv', 'w') as f:\n",
    "    write = csv.writer(f)\n",
    "    write.writerows(triples)"
   ]
  },
  {
   "cell_type": "markdown",
   "id": "83aa3ad2",
   "metadata": {},
   "source": [
    "# Run queries on index with stemming"
   ]
  },
  {
   "cell_type": "code",
   "execution_count": 39,
   "id": "cefff6be",
   "metadata": {},
   "outputs": [
    {
     "name": "stderr",
     "output_type": "stream",
     "text": [
      "/var/folders/_l/rkyt5yds1gq2qlb0ljt7n8s00000gn/T/ipykernel_14216/265843473.py:6: DeprecationWarning: The 'body' parameter is deprecated and will be removed in a future version. Instead use individual parameters.\n",
      "  resp = es.search(\n"
     ]
    },
    {
     "name": "stdout",
     "output_type": "stream",
     "text": [
      "Average query time is: \n",
      "2.1\n"
     ]
    }
   ],
   "source": [
    "stem_triples = []\n",
    "total_time = 0\n",
    "\n",
    "for i,row in qdf.iterrows():\n",
    "    stem_triple = []\n",
    "    resp = es.search(\n",
    "        index=\"stem_documents\",\n",
    "        body={\n",
    "            \"query\": {\n",
    "                \"bool\": {\n",
    "                    \"should\": {\n",
    "                        \"match\": {\n",
    "                            \"text_right\": row[\"text_left\"],\n",
    "                        }\n",
    "                    }\n",
    "                }\n",
    "            }\n",
    "        },\n",
    "        size=20\n",
    "    )\n",
    "    for hit in resp['hits']['hits']:\n",
    "        stem_triple.append((row[\"id_left\"], hit['_id'], hit['_score']))\n",
    "    total_time += resp['took']\n",
    "    \n",
    "    stem_triples.append(stem_triple)\n",
    "    \n",
    "print(\"Average query time is: \")\n",
    "print(total_time/number_of_queries)"
   ]
  },
  {
   "cell_type": "code",
   "execution_count": 37,
   "id": "8c1f95c6",
   "metadata": {},
   "outputs": [],
   "source": [
    "with open('triples_with_stemming.csv', 'w') as f:\n",
    "    write = csv.writer(f)\n",
    "    write.writerows(stem_triples)"
   ]
  },
  {
   "cell_type": "markdown",
   "id": "72b7efd1",
   "metadata": {},
   "source": [
    "# Formatting my runs in TREC format"
   ]
  },
  {
   "cell_type": "code",
   "execution_count": 43,
   "id": "8b69fb44",
   "metadata": {},
   "outputs": [],
   "source": [
    "with open(\"qrels_no_stemming\", \"w\") as qnsf:\n",
    "    for query in triples:\n",
    "        for triple in query:\n",
    "            if triple[0] == int(triple[1]):\n",
    "                rel = \"2\"\n",
    "            else:\n",
    "                rel = \"1\"\n",
    "            qnsf.write(str(triple[0]) + \"\\t0\\t\" + str(triple[1]) + \"\\t\" + rel + \"\\n\")"
   ]
  },
  {
   "cell_type": "code",
   "execution_count": 44,
   "id": "e923c78d",
   "metadata": {},
   "outputs": [],
   "source": [
    "with open(\"qrels_with_stemming\", \"w\") as qwsf:\n",
    "    for query in stem_triples:\n",
    "        for triple in query:\n",
    "            if triple[0] == int(triple[1]):\n",
    "                rel = \"2\"\n",
    "            else:\n",
    "                rel = \"1\"\n",
    "            qwsf.write(str(triple[0]) + \"\\t0\\t\" + str(triple[1]) + \"\\t\" + rel + \"\\n\")"
   ]
  },
  {
   "cell_type": "code",
   "execution_count": 47,
   "id": "0aafdb65",
   "metadata": {},
   "outputs": [],
   "source": [
    "with open(\"es_no_stemming.res\", \"w\") as esnsf:\n",
    "    for query in triples:\n",
    "        rank = 0\n",
    "        for triple in query:\n",
    "            esnsf.write(str(triple[0]) + \" Q0 \" + str(triple[1]) + \" \" + str(rank) + \" \" + str(triple[2]) + \" ES\\n\")\n",
    "            rank += 1"
   ]
  },
  {
   "cell_type": "code",
   "execution_count": 48,
   "id": "4e58f7b1",
   "metadata": {},
   "outputs": [],
   "source": [
    "with open(\"es_with_stemming.res\", \"w\") as eswsf:\n",
    "    for query in stem_triples:\n",
    "        rank = 0\n",
    "        for triple in query:\n",
    "            eswsf.write(str(triple[0]) + \" Q0 \" + str(triple[1]) + \" \" + str(rank) + \" \" + str(triple[2]) + \" ES\\n\")\n",
    "            rank += 1"
   ]
  },
  {
   "cell_type": "code",
   "execution_count": 49,
   "id": "84d40156",
   "metadata": {},
   "outputs": [],
   "source": [
    "import ir_measures\n",
    "from ir_measures import *"
   ]
  },
  {
   "cell_type": "code",
   "execution_count": 50,
   "id": "a0f0dd3e",
   "metadata": {},
   "outputs": [
    {
     "data": {
      "text/plain": [
       "{AP: 0.14804628973499517, P@10: 0.20699999999999988, P@20: 0.14850000000000008}"
      ]
     },
     "execution_count": 50,
     "metadata": {},
     "output_type": "execute_result"
    }
   ],
   "source": [
    "qrels = ir_measures.read_trec_qrels('test/qrels')\n",
    "run = ir_measures.read_trec_run('es_no_stemming.res')\n",
    "ir_measures.calc_aggregate([P@10, P@20, MAP], qrels, run)"
   ]
  },
  {
   "cell_type": "code",
   "execution_count": 51,
   "id": "41247bf4",
   "metadata": {},
   "outputs": [
    {
     "data": {
      "text/plain": [
       "{AP: 0.1460596884041505, P@10: 0.20999999999999994, P@20: 0.142}"
      ]
     },
     "execution_count": 51,
     "metadata": {},
     "output_type": "execute_result"
    }
   ],
   "source": [
    "qrels = ir_measures.read_trec_qrels('test/qrels')\n",
    "run = ir_measures.read_trec_run('es_with_stemming.res')\n",
    "ir_measures.calc_aggregate([P@10, P@20, MAP], qrels, run)"
   ]
  },
  {
   "cell_type": "code",
   "execution_count": 52,
   "id": "d54a545c",
   "metadata": {},
   "outputs": [
    {
     "data": {
      "text/plain": [
       "{AP: 0.11196168401599797, P@10: 0.1319999999999999, P@20: 0.09499999999999999}"
      ]
     },
     "execution_count": 52,
     "metadata": {},
     "output_type": "execute_result"
    }
   ],
   "source": [
    "qrels = ir_measures.read_trec_qrels('test/qrels')\n",
    "run = ir_measures.read_trec_run('test/BM25.res')\n",
    "ir_measures.calc_aggregate([P@10, P@20, MAP], qrels, run)"
   ]
  },
  {
   "cell_type": "code",
   "execution_count": 53,
   "id": "aeffa6fc",
   "metadata": {},
   "outputs": [
    {
     "data": {
      "text/plain": [
       "{AP: 0.5194326254697494, P@10: 0.5545454545454546, P@20: 0.48282828282828266}"
      ]
     },
     "execution_count": 53,
     "metadata": {},
     "output_type": "execute_result"
    }
   ],
   "source": [
    "qrels = ir_measures.read_trec_qrels('qrels_no_stemming')\n",
    "run = ir_measures.read_trec_run('test/BM25.res')\n",
    "ir_measures.calc_aggregate([P@10, P@20, MAP], qrels, run)"
   ]
  },
  {
   "cell_type": "code",
   "execution_count": 54,
   "id": "e1e85f2b",
   "metadata": {},
   "outputs": [
    {
     "data": {
      "text/plain": [
       "{AP: 0.5471741948123588, P@10: 0.6111111111111109, P@20: 0.5055555555555554}"
      ]
     },
     "execution_count": 54,
     "metadata": {},
     "output_type": "execute_result"
    }
   ],
   "source": [
    "qrels = ir_measures.read_trec_qrels('qrels_with_stemming')\n",
    "run = ir_measures.read_trec_run('test/BM25.res')\n",
    "ir_measures.calc_aggregate([P@10, P@20, MAP], qrels, run)"
   ]
  },
  {
   "cell_type": "code",
   "execution_count": null,
   "id": "5b84e4ab",
   "metadata": {},
   "outputs": [],
   "source": []
  }
 ],
 "metadata": {
  "kernelspec": {
   "display_name": "Python 3 (ipykernel)",
   "language": "python",
   "name": "python3"
  },
  "language_info": {
   "codemirror_mode": {
    "name": "ipython",
    "version": 3
   },
   "file_extension": ".py",
   "mimetype": "text/x-python",
   "name": "python",
   "nbconvert_exporter": "python",
   "pygments_lexer": "ipython3",
   "version": "3.9.13"
  }
 },
 "nbformat": 4,
 "nbformat_minor": 5
}
